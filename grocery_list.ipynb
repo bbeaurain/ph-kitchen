{
 "cells": [
  {
   "cell_type": "markdown",
   "id": "893b9f61",
   "metadata": {},
   "source": [
    "# Grocery List"
   ]
  },
  {
   "cell_type": "code",
   "execution_count": 1,
   "id": "eea51aba",
   "metadata": {},
   "outputs": [],
   "source": [
    "import requests\n",
    "import pandas as pd\n",
    "import json\n",
    "from collections import defaultdict\n",
    "\n",
    "# --- Configuration ---\n",
    "HASURA_ENDPOINT = \"http://localhost:8080/v1/graphql\"  # Replace with your actual Hasura endpoint\n",
    "HASURA_HEADERS = {\n",
    "    \"Content-Type\": \"application/json\",\n",
    "    \"x-hasura-admin-secret\": \"your-secret\"  # Replace with your Hasura admin secret if needed\n",
    "}\n",
    "SOURCE_NAME = \"default\"  # Change if your Hasura source has another name\n",
    "\n",
    "QUERY_FILE = \"queries/grocery_list.gql\"\n",
    "VARIABLE_FILE = \"queries/grocery_list_input.json\"\n",
    "OUTPUT_FILE = \"queries/grocery_list_output.json\"\n",
    "OUTPUT_FILE_CSV = \"data/grocery_list/grocery_list_output.csv\""
   ]
  },
  {
   "cell_type": "markdown",
   "id": "a5c9acbd",
   "metadata": {},
   "source": [
    "## Call API"
   ]
  },
  {
   "cell_type": "code",
   "execution_count": 2,
   "id": "53c71fb8",
   "metadata": {},
   "outputs": [
    {
     "name": "stdout",
     "output_type": "stream",
     "text": [
      "✅ Response saved to queries/grocery_list_output.json\n"
     ]
    }
   ],
   "source": [
    "# Read query\n",
    "with open(QUERY_FILE, \"r\") as gql_file:\n",
    "    query = gql_file.read()\n",
    "\n",
    "# Read variables\n",
    "with open(VARIABLE_FILE, \"r\") as var_file:\n",
    "    variables = json.load(var_file)\n",
    "\n",
    "# === Send GraphQL request ===\n",
    "response = requests.post(\n",
    "    HASURA_ENDPOINT,\n",
    "    headers=HASURA_HEADERS,\n",
    "    json={\n",
    "        \"query\": query,\n",
    "        \"variables\": variables\n",
    "    }\n",
    ")\n",
    "\n",
    "# === Handle response ===\n",
    "if response.status_code == 200:\n",
    "    data = response.json()\n",
    "    with open(OUTPUT_FILE, \"w\") as f:\n",
    "        json.dump(data, f, indent=2)\n",
    "    print(f\"✅ Response saved to {OUTPUT_FILE}\")\n",
    "else:\n",
    "    print(f\"❌ Request failed: {response.status_code} - {response.text}\")"
   ]
  },
  {
   "cell_type": "markdown",
   "id": "d831d7a2",
   "metadata": {},
   "source": [
    "## Shape API Response"
   ]
  },
  {
   "cell_type": "code",
   "execution_count": 24,
   "id": "65294e41",
   "metadata": {},
   "outputs": [],
   "source": [
    "# Load your JSON (replace with actual loading logic)\n",
    "with open(OUTPUT_FILE) as f:\n",
    "    data = json.load(f)\n",
    "\n",
    "# Grouped result: (store_section_id, ingredient_id, display) -> total_qty\n",
    "grouped = defaultdict(float)\n",
    "\n",
    "for item in data[\"data\"][\"map_recipe_ingredient\"]:\n",
    "    section = item[\"ingredient_by_ingredient_id\"][\"store_section_id\"]\n",
    "    ingredient = item[\"ingredient_id\"]\n",
    "    display = item[\"unit_by_unit_id\"][\"display\"]\n",
    "    qty = float(item[\"ingredient_qty\"])\n",
    "    key = (section, ingredient, display)\n",
    "    grouped[key] += qty\n",
    "\n",
    "# Format results\n",
    "result = [\n",
    "    {\n",
    "        \"store_section_id\": k[0],\n",
    "        \"ingredient_id\": k[1],\n",
    "        \"unit_display\": k[2],\n",
    "        \"total_qty\": v\n",
    "    }\n",
    "    for k, v in grouped.items()\n",
    "]\n",
    "\n",
    "# Pretty-print\n",
    "# import pprint\n",
    "# pprint.pprint(result)\n"
   ]
  },
  {
   "cell_type": "markdown",
   "id": "066624ec",
   "metadata": {},
   "source": [
    "## Save as .csv"
   ]
  },
  {
   "cell_type": "code",
   "execution_count": 25,
   "id": "cb5a1846",
   "metadata": {},
   "outputs": [
    {
     "name": "stdout",
     "output_type": "stream",
     "text": [
      "CSV saved as grouped_ingredients.csv\n"
     ]
    }
   ],
   "source": [
    "# Convert to DataFrame\n",
    "df = pd.DataFrame(\n",
    "    [\n",
    "        {\n",
    "            \"store_section_id\": k[0],\n",
    "            \"ingredient_id\": k[1],\n",
    "            \"unit_display\": k[2],\n",
    "            \"total_qty\": v\n",
    "        }\n",
    "        for k, v in grouped.items()\n",
    "    ]\n",
    ")\n",
    "\n",
    "# Save to CSV\n",
    "df.to_csv(OUTPUT_FILE_CSV, index=False)\n",
    "\n",
    "print(\"CSV saved as grouped_ingredients.csv\")"
   ]
  }
 ],
 "metadata": {
  "kernelspec": {
   "display_name": ".venv",
   "language": "python",
   "name": "python3"
  },
  "language_info": {
   "codemirror_mode": {
    "name": "ipython",
    "version": 3
   },
   "file_extension": ".py",
   "mimetype": "text/x-python",
   "name": "python",
   "nbconvert_exporter": "python",
   "pygments_lexer": "ipython3",
   "version": "3.11.2"
  }
 },
 "nbformat": 4,
 "nbformat_minor": 5
}
